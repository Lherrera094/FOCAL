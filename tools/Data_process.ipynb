{
 "cells": [
  {
   "cell_type": "code",
   "execution_count": 1,
   "id": "837b7794-52e1-42e1-81d6-92dca14222a0",
   "metadata": {},
   "outputs": [
    {
     "name": "stderr",
     "output_type": "stream",
     "text": [
      "Warning: Ignoring XDG_SESSION_TYPE=wayland on Gnome. Use QT_QPA_PLATFORM=wayland to run on Wayland anyway.\n"
     ]
    }
   ],
   "source": [
    "# import standard modules\n",
    "import argparse\n",
    "import h5py\n",
    "import numpy as np\n",
    "import os.path\n",
    "\n",
    "# import modules for visualization of 3D data\n",
    "from mayavi import mlab"
   ]
  },
  {
   "cell_type": "code",
   "execution_count": 2,
   "id": "a9969c08-87fb-4e25-97d0-602a2c7697ad",
   "metadata": {},
   "outputs": [],
   "source": [
    "def readhdf5( fname, dSet_name ):\n",
    "    #;{{{\n",
    "    \"\"\"\n",
    "    Open hdf5-file, extract one dataset, and return it.\n",
    "    Copied from little_helper.py on 2024-03-12.\n",
    "\n",
    "    Parameters\n",
    "    ----------\n",
    "    fname: str\n",
    "        filename of hdf5-file including full path\n",
    "    dSet_name: str\n",
    "        name of dataset to be read from hdf5-file\n",
    "\n",
    "    Returns\n",
    "    -------\n",
    "    numpy array\n",
    "    \"\"\"\n",
    "\n",
    "    err_value = 1\n",
    "\n",
    "    # if file exists, open it for reading\n",
    "    #if os.path.isfile( fname ):\n",
    "        #h5f = h5py.File( fname, 'r' )\n",
    "    #else:\n",
    "    h5f = h5py.File( \"fileout.h5\", 'r' )\n",
    "    #elif:\n",
    "        #print( 'ERROR: cannot read following file: {0}'.format( fname ))\n",
    "        #return err_value\n",
    "\n",
    "    # trying to read dataset\n",
    "    if dSet_name in h5f:\n",
    "        data_in = h5f[ dSet_name ][()]\n",
    "        # note that the dataset.value attribute was deprecated, i.e. \n",
    "        # data_in = h5f.get(dSet_name).value is no longer working\n",
    "    else:\n",
    "        print( 'ERROR: dataset <{0}> does not exists in file <{1}>'.format( dSet_name, fname ) )\n",
    "        return err_value\n",
    "\n",
    "    h5f.close()\n",
    "\n",
    "    return data_in\n",
    "    #;}}}"
   ]
  },
  {
   "cell_type": "code",
   "execution_count": 3,
   "id": "73466731-6712-4129-94c4-e3dee1a8a483",
   "metadata": {},
   "outputs": [],
   "source": [
    "def plot_simple( fname_in, dSet_name='',\n",
    "                 contLevels=20, \n",
    "                 fname_out='',\n",
    "                 silent=True, \n",
    "               ):\n",
    "    #{{{\n",
    "\n",
    "    funcName    = 'plot_simple'\n",
    "\n",
    "    # check keywords\n",
    "    if len(dSet_name) == 0:\n",
    "        print( funcName )\n",
    "        print( \"  ERROR: you did not set parameter 'dSet_name' \" )\n",
    "        print( \"         will exit now\" )\n",
    "        return\n",
    "\n",
    "    data2plot   = readhdf5( fname_in, dSet_name )\n",
    "\n",
    "    colScale    = 'lin'\n",
    "    if colScale == 'lin':\n",
    "        contLevels  = np.linspace( 0, np.amax(data2plot), contLevels )[1:].tolist()\n",
    "    elif colScale == 'log':\n",
    "        contLevels  = np.logspace( np.log10(1e-2), np.log10(np.amax(E_abs)), 8)[3:].tolist()\n",
    "\n",
    "    if not silent:\n",
    "        print( funcName )\n",
    "        print( \"  status: contour levels = \", contLevels )\n",
    "\n",
    "    fig1    = mlab.figure( bgcolor=(1,1,1),\n",
    "                           fgcolor=(0,0,0), # color of axes, orientation axes, label\n",
    "                           size=(800,600),\n",
    "                         )\n",
    "\n",
    "    cont_Eabs   = mlab.contour3d( data2plot, \n",
    "                                  contours=contLevels,\n",
    "                                  transparent=True, opacity=.4,\n",
    "                                  figure=fig1\n",
    "                                )\n",
    "\n",
    "    # create an axes instance to modify some of its properties afterwards\n",
    "    ax1 = mlab.axes( nb_labels=4,\n",
    "                     extent=[1, data2plot.shape[0], \n",
    "                             1, data2plot.shape[1],\n",
    "                             1, data2plot.shape[2] ],\n",
    "                   )\n",
    "    mlab.outline(ax1)\n",
    "    ax1.axes.label_format   = '%.0f'\n",
    "    # labels can also be set via mlab.xlabel('x')\n",
    "    ax1.axes.x_label    = 'x'\n",
    "    ax1.axes.y_label    = 'y'\n",
    "    ax1.axes.z_label    = 'z'\n",
    "\n",
    "    # set initial viewing angle\n",
    "    # azimuth:   angle subtended by position vector on a sphere projected onto x-y plane with the x-axis, 0...360\n",
    "    # elevation: zenith angle, i.e. angle subtended by position vector and the z-axis, 0...180\n",
    "    mlab.view( azimuth=290, elevation=80 )\n",
    "\n",
    "    if len(fname_out) > 0:\n",
    "        mlab.savefig( fname_out )\n",
    "    else:\n",
    "        mlab.show()\n",
    "\n",
    "    #}}}"
   ]
  },
  {
   "cell_type": "code",
   "execution_count": null,
   "id": "95db35d9-f195-4d67-b423-051d53ef9b53",
   "metadata": {},
   "outputs": [
    {
     "name": "stdout",
     "output_type": "stream",
     "text": [
      "  Following arguments are set (via command line options): \n",
      "    fname = /home/luis/.local/share/jupyter/runtime/kernel-69e61b90-b371-4caf-8f05-9cd9172d03f2.json\n",
      "    dSet_name = B0x\n",
      "plot_simple\n",
      "  status: contour levels =  [0.0, 0.0, 0.0, 0.0, 0.0, 0.0, 0.0, 0.0, 0.0, 0.0, 0.0, 0.0, 0.0, 0.0, 0.0, 0.0, 0.0, 0.0, 0.0]\n"
     ]
    }
   ],
   "source": [
    "def main():\n",
    "    #{{{\n",
    "\n",
    "    # initialize parser for command line options\n",
    "    parser  = argparse.ArgumentParser()\n",
    "    # add optional arguments\n",
    "    parser.add_argument( \"-f\", \"--filename\", type=str, default=\"fileout.h5\",\n",
    "                         help=\"Filename of hdf5 output file from FOCAL.\" )\n",
    "    parser.add_argument( \"-d\", \"--dSet_name\", type=str, default=\"n_e\",\n",
    "                         help=\"Dataset name to be plotted.\" )\n",
    "    parser.add_argument( \"-c\", \"--contLevels\", type=int, default=20,\n",
    "                         help=\"Number of contour levels used.\" )\n",
    "\n",
    "    # read all argments from command line\n",
    "    args        = parser.parse_args()\n",
    "    fname       = args.filename\n",
    "    dSet_name   = args.dSet_name\n",
    "    contLevels  = args.contLevels\n",
    "\n",
    "    print( \"  Following arguments are set (via command line options): \" )\n",
    "    print( \"    fname = {0}\".format(fname) )\n",
    "    print( \"    dSet_name = {0}\".format(dSet_name) )\n",
    "\n",
    "    plot_simple(fname, dSet_name=dSet_name, contLevels=contLevels, silent=False)\n",
    "\n",
    "    #}}}\n",
    "\n",
    "\n",
    "if __name__ == '__main__':\n",
    "    main()"
   ]
  },
  {
   "cell_type": "code",
   "execution_count": 2,
   "id": "cb98e631-b1ba-410b-91dd-dc9e6ef6d7af",
   "metadata": {},
   "outputs": [
    {
     "name": "stdout",
     "output_type": "stream",
     "text": [
      "B0x\n",
      "B0y\n",
      "B0z\n",
      "E_abs__tint00801\n",
      "config\n",
      "detAnt_01\n",
      "detAnt_02\n",
      "n_e\n"
     ]
    }
   ],
   "source": [
    "file = h5py.File( \"fileout.h5\", 'r' )\n",
    "for key in file.keys():\n",
    "    print(key)"
   ]
  },
  {
   "cell_type": "code",
   "execution_count": 7,
   "id": "0ad50b7f-b32c-4815-a74a-9c995ad91162",
   "metadata": {},
   "outputs": [
    {
     "name": "stdout",
     "output_type": "stream",
     "text": [
      "[[0.00000000e+00 0.00000000e+00 0.00000000e+00 ... 0.00000000e+00\n",
      "  0.00000000e+00 0.00000000e+00]\n",
      " [0.00000000e+00 3.09747847e-10 2.79977905e-10 ... 9.70064274e-11\n",
      "  9.66545482e-11 0.00000000e+00]\n",
      " [0.00000000e+00 3.05162237e-10 2.73608144e-10 ... 8.52329158e-11\n",
      "  8.49539208e-11 0.00000000e+00]\n",
      " ...\n",
      " [0.00000000e+00 4.35850448e-10 3.95296314e-10 ... 2.97133171e-11\n",
      "  1.71782176e-11 0.00000000e+00]\n",
      " [0.00000000e+00 4.16271303e-10 3.77999238e-10 ... 3.09841953e-11\n",
      "  1.79042913e-11 0.00000000e+00]\n",
      " [0.00000000e+00 0.00000000e+00 0.00000000e+00 ... 0.00000000e+00\n",
      "  0.00000000e+00 0.00000000e+00]]\n"
     ]
    }
   ],
   "source": [
    "data = file[\"E_abs__tint00801\"][3]\n",
    "print(data)"
   ]
  },
  {
   "cell_type": "code",
   "execution_count": null,
   "id": "584b1666-210a-4065-87d1-8f03131dac79",
   "metadata": {},
   "outputs": [],
   "source": []
  }
 ],
 "metadata": {
  "kernelspec": {
   "display_name": "Python 3 (ipykernel)",
   "language": "python",
   "name": "python3"
  },
  "language_info": {
   "codemirror_mode": {
    "name": "ipython",
    "version": 3
   },
   "file_extension": ".py",
   "mimetype": "text/x-python",
   "name": "python",
   "nbconvert_exporter": "python",
   "pygments_lexer": "ipython3",
   "version": "3.8.18"
  }
 },
 "nbformat": 4,
 "nbformat_minor": 5
}
