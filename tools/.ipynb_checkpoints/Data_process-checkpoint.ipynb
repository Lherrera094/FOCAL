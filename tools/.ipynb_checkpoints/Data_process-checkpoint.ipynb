{
 "cells": [
  {
   "cell_type": "code",
   "execution_count": 1,
   "id": "837b7794-52e1-42e1-81d6-92dca14222a0",
   "metadata": {},
   "outputs": [
    {
     "name": "stderr",
     "output_type": "stream",
     "text": [
      "Warning: Ignoring XDG_SESSION_TYPE=wayland on Gnome. Use QT_QPA_PLATFORM=wayland to run on Wayland anyway.\n"
     ]
    }
   ],
   "source": [
    "# import standard modules\n",
    "import argparse\n",
    "import h5py\n",
    "import numpy as np\n",
    "import os.path\n",
    "\n",
    "# import modules for visualization of 3D data\n",
    "from mayavi import mlab"
   ]
  },
  {
   "cell_type": "code",
   "execution_count": 2,
   "id": "a9969c08-87fb-4e25-97d0-602a2c7697ad",
   "metadata": {},
   "outputs": [],
   "source": [
    "def readhdf5( fname, dSet_name ):\n",
    "    #;{{{\n",
    "    \"\"\"\n",
    "    Open hdf5-file, extract one dataset, and return it.\n",
    "    Copied from little_helper.py on 2024-03-12.\n",
    "\n",
    "    Parameters\n",
    "    ----------\n",
    "    fname: str\n",
    "        filename of hdf5-file including full path\n",
    "    dSet_name: str\n",
    "        name of dataset to be read from hdf5-file\n",
    "\n",
    "    Returns\n",
    "    -------\n",
    "    numpy array\n",
    "    \"\"\"\n",
    "\n",
    "    err_value = 1\n",
    "\n",
    "    # if file exists, open it for reading\n",
    "    if os.path.isfile( fname ):\n",
    "        h5f = h5py.File( fname, 'r' )\n",
    "    else:\n",
    "        file = h5py.File( \"fileout.h5\", 'r' )\n",
    "    elif:\n",
    "        print( 'ERROR: cannot read following file: {0}'.format( fname ))\n",
    "        return err_value\n",
    "\n",
    "    # trying to read dataset\n",
    "    if dSet_name in h5f:\n",
    "        data_in = h5f[ dSet_name ][()]\n",
    "        # note that the dataset.value attribute was deprecated, i.e. \n",
    "        # data_in = h5f.get(dSet_name).value is no longer working\n",
    "    else:\n",
    "        print( 'ERROR: dataset <{0}> does not exists in file <{1}>'.format( dSet_name, fname ) )\n",
    "        return err_value\n",
    "\n",
    "    h5f.close()\n",
    "\n",
    "    return data_in\n",
    "    #;}}}"
   ]
  },
  {
   "cell_type": "code",
   "execution_count": 3,
   "id": "73466731-6712-4129-94c4-e3dee1a8a483",
   "metadata": {},
   "outputs": [],
   "source": [
    "def plot_simple( fname_in, dSet_name='',\n",
    "                 contLevels=20, \n",
    "                 fname_out='',\n",
    "                 silent=True, \n",
    "               ):\n",
    "    #{{{\n",
    "\n",
    "    funcName    = 'plot_simple'\n",
    "\n",
    "    # check keywords\n",
    "    if len(dSet_name) == 0:\n",
    "        print( funcName )\n",
    "        print( \"  ERROR: you did not set parameter 'dSet_name' \" )\n",
    "        print( \"         will exit now\" )\n",
    "        return\n",
    "\n",
    "    data2plot   = readhdf5( fname_in, dSet_name )\n",
    "\n",
    "    colScale    = 'lin'\n",
    "    if colScale == 'lin':\n",
    "        contLevels  = np.linspace( 0, np.amax(data2plot), contLevels )[1:].tolist()\n",
    "    elif colScale == 'log':\n",
    "        contLevels  = np.logspace( np.log10(1e-2), np.log10(np.amax(E_abs)), 8)[3:].tolist()\n",
    "\n",
    "    if not silent:\n",
    "        print( funcName )\n",
    "        print( \"  status: contour levels = \", contLevels )\n",
    "\n",
    "    fig1    = mlab.figure( bgcolor=(1,1,1),\n",
    "                           fgcolor=(0,0,0), # color of axes, orientation axes, label\n",
    "                           size=(800,600),\n",
    "                         )\n",
    "\n",
    "    cont_Eabs   = mlab.contour3d( data2plot, \n",
    "                                  contours=contLevels,\n",
    "                                  transparent=True, opacity=.4,\n",
    "                                  figure=fig1\n",
    "                                )\n",
    "\n",
    "    # create an axes instance to modify some of its properties afterwards\n",
    "    ax1 = mlab.axes( nb_labels=4,\n",
    "                     extent=[1, data2plot.shape[0], \n",
    "                             1, data2plot.shape[1],\n",
    "                             1, data2plot.shape[2] ],\n",
    "                   )\n",
    "    mlab.outline(ax1)\n",
    "    ax1.axes.label_format   = '%.0f'\n",
    "    # labels can also be set via mlab.xlabel('x')\n",
    "    ax1.axes.x_label    = 'x'\n",
    "    ax1.axes.y_label    = 'y'\n",
    "    ax1.axes.z_label    = 'z'\n",
    "\n",
    "    # set initial viewing angle\n",
    "    # azimuth:   angle subtended by position vector on a sphere projected onto x-y plane with the x-axis, 0...360\n",
    "    # elevation: zenith angle, i.e. angle subtended by position vector and the z-axis, 0...180\n",
    "    mlab.view( azimuth=290, elevation=80 )\n",
    "\n",
    "    if len(fname_out) > 0:\n",
    "        mlab.savefig( fname_out )\n",
    "    else:\n",
    "        mlab.show()\n",
    "\n",
    "    #}}}"
   ]
  },
  {
   "cell_type": "code",
   "execution_count": 4,
   "id": "95db35d9-f195-4d67-b423-051d53ef9b53",
   "metadata": {},
   "outputs": [
    {
     "name": "stdout",
     "output_type": "stream",
     "text": [
      "  Following arguments are set (via command line options): \n",
      "    fname = /home/luis/.local/share/jupyter/runtime/kernel-69e61b90-b371-4caf-8f05-9cd9172d03f2.json\n",
      "    dSet_name = n_e\n"
     ]
    },
    {
     "ename": "OSError",
     "evalue": "Unable to synchronously open file (file signature not found)",
     "output_type": "error",
     "traceback": [
      "\u001b[0;31m---------------------------------------------------------------------------\u001b[0m",
      "\u001b[0;31mOSError\u001b[0m                                   Traceback (most recent call last)",
      "Cell \u001b[0;32mIn[4], line 30\u001b[0m\n\u001b[1;32m     26\u001b[0m     \u001b[38;5;66;03m#}}}\u001b[39;00m\n\u001b[1;32m     29\u001b[0m \u001b[38;5;28;01mif\u001b[39;00m \u001b[38;5;18m__name__\u001b[39m \u001b[38;5;241m==\u001b[39m \u001b[38;5;124m'\u001b[39m\u001b[38;5;124m__main__\u001b[39m\u001b[38;5;124m'\u001b[39m:\n\u001b[0;32m---> 30\u001b[0m     \u001b[43mmain\u001b[49m\u001b[43m(\u001b[49m\u001b[43m)\u001b[49m\n",
      "Cell \u001b[0;32mIn[4], line 24\u001b[0m, in \u001b[0;36mmain\u001b[0;34m()\u001b[0m\n\u001b[1;32m     21\u001b[0m \u001b[38;5;28mprint\u001b[39m( \u001b[38;5;124m\"\u001b[39m\u001b[38;5;124m    fname = \u001b[39m\u001b[38;5;132;01m{0}\u001b[39;00m\u001b[38;5;124m\"\u001b[39m\u001b[38;5;241m.\u001b[39mformat(fname) )\n\u001b[1;32m     22\u001b[0m \u001b[38;5;28mprint\u001b[39m( \u001b[38;5;124m\"\u001b[39m\u001b[38;5;124m    dSet_name = \u001b[39m\u001b[38;5;132;01m{0}\u001b[39;00m\u001b[38;5;124m\"\u001b[39m\u001b[38;5;241m.\u001b[39mformat(dSet_name) )\n\u001b[0;32m---> 24\u001b[0m \u001b[43mplot_simple\u001b[49m\u001b[43m(\u001b[49m\u001b[43mfname\u001b[49m\u001b[43m,\u001b[49m\u001b[43m \u001b[49m\u001b[43mdSet_name\u001b[49m\u001b[38;5;241;43m=\u001b[39;49m\u001b[43mdSet_name\u001b[49m\u001b[43m,\u001b[49m\u001b[43m \u001b[49m\u001b[43mcontLevels\u001b[49m\u001b[38;5;241;43m=\u001b[39;49m\u001b[43mcontLevels\u001b[49m\u001b[43m,\u001b[49m\u001b[43m \u001b[49m\u001b[43msilent\u001b[49m\u001b[38;5;241;43m=\u001b[39;49m\u001b[38;5;28;43;01mFalse\u001b[39;49;00m\u001b[43m)\u001b[49m\n",
      "Cell \u001b[0;32mIn[3], line 17\u001b[0m, in \u001b[0;36mplot_simple\u001b[0;34m(fname_in, dSet_name, contLevels, fname_out, silent)\u001b[0m\n\u001b[1;32m     14\u001b[0m     \u001b[38;5;28mprint\u001b[39m( \u001b[38;5;124m\"\u001b[39m\u001b[38;5;124m         will exit now\u001b[39m\u001b[38;5;124m\"\u001b[39m )\n\u001b[1;32m     15\u001b[0m     \u001b[38;5;28;01mreturn\u001b[39;00m\n\u001b[0;32m---> 17\u001b[0m data2plot   \u001b[38;5;241m=\u001b[39m \u001b[43mreadhdf5\u001b[49m\u001b[43m(\u001b[49m\u001b[43m \u001b[49m\u001b[43mfname_in\u001b[49m\u001b[43m,\u001b[49m\u001b[43m \u001b[49m\u001b[43mdSet_name\u001b[49m\u001b[43m \u001b[49m\u001b[43m)\u001b[49m\n\u001b[1;32m     19\u001b[0m colScale    \u001b[38;5;241m=\u001b[39m \u001b[38;5;124m'\u001b[39m\u001b[38;5;124mlin\u001b[39m\u001b[38;5;124m'\u001b[39m\n\u001b[1;32m     20\u001b[0m \u001b[38;5;28;01mif\u001b[39;00m colScale \u001b[38;5;241m==\u001b[39m \u001b[38;5;124m'\u001b[39m\u001b[38;5;124mlin\u001b[39m\u001b[38;5;124m'\u001b[39m:\n",
      "Cell \u001b[0;32mIn[2], line 23\u001b[0m, in \u001b[0;36mreadhdf5\u001b[0;34m(fname, dSet_name)\u001b[0m\n\u001b[1;32m     21\u001b[0m \u001b[38;5;66;03m# if file exists, open it for reading\u001b[39;00m\n\u001b[1;32m     22\u001b[0m \u001b[38;5;28;01mif\u001b[39;00m os\u001b[38;5;241m.\u001b[39mpath\u001b[38;5;241m.\u001b[39misfile( fname ):\n\u001b[0;32m---> 23\u001b[0m     h5f \u001b[38;5;241m=\u001b[39m \u001b[43mh5py\u001b[49m\u001b[38;5;241;43m.\u001b[39;49m\u001b[43mFile\u001b[49m\u001b[43m(\u001b[49m\u001b[43m \u001b[49m\u001b[43mfname\u001b[49m\u001b[43m,\u001b[49m\u001b[43m \u001b[49m\u001b[38;5;124;43m'\u001b[39;49m\u001b[38;5;124;43mr\u001b[39;49m\u001b[38;5;124;43m'\u001b[39;49m\u001b[43m \u001b[49m\u001b[43m)\u001b[49m\n\u001b[1;32m     24\u001b[0m \u001b[38;5;28;01melse\u001b[39;00m:\n\u001b[1;32m     25\u001b[0m     \u001b[38;5;28mprint\u001b[39m( \u001b[38;5;124m'\u001b[39m\u001b[38;5;124mERROR: cannot read following file: \u001b[39m\u001b[38;5;132;01m{0}\u001b[39;00m\u001b[38;5;124m'\u001b[39m\u001b[38;5;241m.\u001b[39mformat( fname ))\n",
      "File \u001b[0;32m~/miniconda3/envs/Science/lib/python3.8/site-packages/h5py/_hl/files.py:562\u001b[0m, in \u001b[0;36mFile.__init__\u001b[0;34m(self, name, mode, driver, libver, userblock_size, swmr, rdcc_nslots, rdcc_nbytes, rdcc_w0, track_order, fs_strategy, fs_persist, fs_threshold, fs_page_size, page_buf_size, min_meta_keep, min_raw_keep, locking, alignment_threshold, alignment_interval, meta_block_size, **kwds)\u001b[0m\n\u001b[1;32m    553\u001b[0m     fapl \u001b[38;5;241m=\u001b[39m make_fapl(driver, libver, rdcc_nslots, rdcc_nbytes, rdcc_w0,\n\u001b[1;32m    554\u001b[0m                      locking, page_buf_size, min_meta_keep, min_raw_keep,\n\u001b[1;32m    555\u001b[0m                      alignment_threshold\u001b[38;5;241m=\u001b[39malignment_threshold,\n\u001b[1;32m    556\u001b[0m                      alignment_interval\u001b[38;5;241m=\u001b[39malignment_interval,\n\u001b[1;32m    557\u001b[0m                      meta_block_size\u001b[38;5;241m=\u001b[39mmeta_block_size,\n\u001b[1;32m    558\u001b[0m                      \u001b[38;5;241m*\u001b[39m\u001b[38;5;241m*\u001b[39mkwds)\n\u001b[1;32m    559\u001b[0m     fcpl \u001b[38;5;241m=\u001b[39m make_fcpl(track_order\u001b[38;5;241m=\u001b[39mtrack_order, fs_strategy\u001b[38;5;241m=\u001b[39mfs_strategy,\n\u001b[1;32m    560\u001b[0m                      fs_persist\u001b[38;5;241m=\u001b[39mfs_persist, fs_threshold\u001b[38;5;241m=\u001b[39mfs_threshold,\n\u001b[1;32m    561\u001b[0m                      fs_page_size\u001b[38;5;241m=\u001b[39mfs_page_size)\n\u001b[0;32m--> 562\u001b[0m     fid \u001b[38;5;241m=\u001b[39m \u001b[43mmake_fid\u001b[49m\u001b[43m(\u001b[49m\u001b[43mname\u001b[49m\u001b[43m,\u001b[49m\u001b[43m \u001b[49m\u001b[43mmode\u001b[49m\u001b[43m,\u001b[49m\u001b[43m \u001b[49m\u001b[43muserblock_size\u001b[49m\u001b[43m,\u001b[49m\u001b[43m \u001b[49m\u001b[43mfapl\u001b[49m\u001b[43m,\u001b[49m\u001b[43m \u001b[49m\u001b[43mfcpl\u001b[49m\u001b[43m,\u001b[49m\u001b[43m \u001b[49m\u001b[43mswmr\u001b[49m\u001b[38;5;241;43m=\u001b[39;49m\u001b[43mswmr\u001b[49m\u001b[43m)\u001b[49m\n\u001b[1;32m    564\u001b[0m \u001b[38;5;28;01mif\u001b[39;00m \u001b[38;5;28misinstance\u001b[39m(libver, \u001b[38;5;28mtuple\u001b[39m):\n\u001b[1;32m    565\u001b[0m     \u001b[38;5;28mself\u001b[39m\u001b[38;5;241m.\u001b[39m_libver \u001b[38;5;241m=\u001b[39m libver\n",
      "File \u001b[0;32m~/miniconda3/envs/Science/lib/python3.8/site-packages/h5py/_hl/files.py:235\u001b[0m, in \u001b[0;36mmake_fid\u001b[0;34m(name, mode, userblock_size, fapl, fcpl, swmr)\u001b[0m\n\u001b[1;32m    233\u001b[0m     \u001b[38;5;28;01mif\u001b[39;00m swmr \u001b[38;5;129;01mand\u001b[39;00m swmr_support:\n\u001b[1;32m    234\u001b[0m         flags \u001b[38;5;241m|\u001b[39m\u001b[38;5;241m=\u001b[39m h5f\u001b[38;5;241m.\u001b[39mACC_SWMR_READ\n\u001b[0;32m--> 235\u001b[0m     fid \u001b[38;5;241m=\u001b[39m \u001b[43mh5f\u001b[49m\u001b[38;5;241;43m.\u001b[39;49m\u001b[43mopen\u001b[49m\u001b[43m(\u001b[49m\u001b[43mname\u001b[49m\u001b[43m,\u001b[49m\u001b[43m \u001b[49m\u001b[43mflags\u001b[49m\u001b[43m,\u001b[49m\u001b[43m \u001b[49m\u001b[43mfapl\u001b[49m\u001b[38;5;241;43m=\u001b[39;49m\u001b[43mfapl\u001b[49m\u001b[43m)\u001b[49m\n\u001b[1;32m    236\u001b[0m \u001b[38;5;28;01melif\u001b[39;00m mode \u001b[38;5;241m==\u001b[39m \u001b[38;5;124m'\u001b[39m\u001b[38;5;124mr+\u001b[39m\u001b[38;5;124m'\u001b[39m:\n\u001b[1;32m    237\u001b[0m     fid \u001b[38;5;241m=\u001b[39m h5f\u001b[38;5;241m.\u001b[39mopen(name, h5f\u001b[38;5;241m.\u001b[39mACC_RDWR, fapl\u001b[38;5;241m=\u001b[39mfapl)\n",
      "File \u001b[0;32mh5py/_objects.pyx:54\u001b[0m, in \u001b[0;36mh5py._objects.with_phil.wrapper\u001b[0;34m()\u001b[0m\n",
      "File \u001b[0;32mh5py/_objects.pyx:55\u001b[0m, in \u001b[0;36mh5py._objects.with_phil.wrapper\u001b[0;34m()\u001b[0m\n",
      "File \u001b[0;32mh5py/h5f.pyx:102\u001b[0m, in \u001b[0;36mh5py.h5f.open\u001b[0;34m()\u001b[0m\n",
      "\u001b[0;31mOSError\u001b[0m: Unable to synchronously open file (file signature not found)"
     ]
    }
   ],
   "source": [
    "def main():\n",
    "    #{{{\n",
    "\n",
    "    # initialize parser for command line options\n",
    "    parser  = argparse.ArgumentParser()\n",
    "    # add optional arguments\n",
    "    parser.add_argument( \"-f\", \"--filename\", type=str, default=\"fileout.h5\",\n",
    "                         help=\"Filename of hdf5 output file from FOCAL.\" )\n",
    "    parser.add_argument( \"-d\", \"--dSet_name\", type=str, default=\"n_e\",\n",
    "                         help=\"Dataset name to be plotted.\" )\n",
    "    parser.add_argument( \"-c\", \"--contLevels\", type=int, default=20,\n",
    "                         help=\"Number of contour levels used.\" )\n",
    "\n",
    "    # read all argments from command line\n",
    "    args        = parser.parse_args()\n",
    "    fname       = args.filename\n",
    "    dSet_name   = args.dSet_name\n",
    "    contLevels  = args.contLevels\n",
    "\n",
    "    print( \"  Following arguments are set (via command line options): \" )\n",
    "    print( \"    fname = {0}\".format(fname) )\n",
    "    print( \"    dSet_name = {0}\".format(dSet_name) )\n",
    "\n",
    "    plot_simple(fname, dSet_name=dSet_name, contLevels=contLevels, silent=False)\n",
    "\n",
    "    #}}}\n",
    "\n",
    "\n",
    "if __name__ == '__main__':\n",
    "    main()"
   ]
  },
  {
   "cell_type": "code",
   "execution_count": 18,
   "id": "cb98e631-b1ba-410b-91dd-dc9e6ef6d7af",
   "metadata": {},
   "outputs": [
    {
     "name": "stdout",
     "output_type": "stream",
     "text": [
      "B0x\n",
      "B0y\n",
      "B0z\n",
      "E_abs__tint00801\n",
      "config\n",
      "detAnt_01\n",
      "detAnt_02\n",
      "n_e\n"
     ]
    }
   ],
   "source": [
    "file = h5py.File( \"fileout.h5\", 'r' )\n",
    "for key in file.keys():\n",
    "    print(key)"
   ]
  },
  {
   "cell_type": "code",
   "execution_count": null,
   "id": "521d3010-f0b9-42c1-84bb-cc3cd39fa42a",
   "metadata": {},
   "outputs": [],
   "source": []
  }
 ],
 "metadata": {
  "kernelspec": {
   "display_name": "Python 3 (ipykernel)",
   "language": "python",
   "name": "python3"
  },
  "language_info": {
   "codemirror_mode": {
    "name": "ipython",
    "version": 3
   },
   "file_extension": ".py",
   "mimetype": "text/x-python",
   "name": "python",
   "nbconvert_exporter": "python",
   "pygments_lexer": "ipython3",
   "version": "3.8.18"
  }
 },
 "nbformat": 4,
 "nbformat_minor": 5
}
